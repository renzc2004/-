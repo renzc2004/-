{
 "cells": [
  {
   "cell_type": "code",
   "execution_count": 1,
   "metadata": {},
   "outputs": [],
   "source": [
    "import threading\n",
    "import time"
   ]
  },
  {
   "cell_type": "code",
   "execution_count": 2,
   "metadata": {},
   "outputs": [
    {
     "name": "stdout",
     "output_type": "stream",
     "text": [
      "Threading MainThread is running\n",
      "Threading Thread-6 is running\n",
      "Threading Thread-6 sleep 1s\n",
      "Threading Thread-7 is running\n",
      "Threading Thread-7 sleep 5s\n",
      "Threading MainThread is ended\n",
      "Threading Thread-6 is ended\n",
      "Threading Thread-7 is ended\n"
     ]
    }
   ],
   "source": [
    "def target(second):\n",
    "    print(f'Threading {threading.current_thread().name} is running')\n",
    "    print(f'Threading {threading.current_thread().name} sleep {second}s')\n",
    "    time.sleep(second)\n",
    "    print(f'Threading {threading.current_thread().name} is ended')\n",
    "print(f'Threading {threading.current_thread().name} is running')\n",
    "for i in [1, 5]:\n",
    "    thread = threading.Thread(target=target, args=[i])\n",
    "    thread.start()\n",
    "print(f'Threading {threading.current_thread().name} is ended')"
   ]
  },
  {
   "cell_type": "code",
   "execution_count": 3,
   "metadata": {},
   "outputs": [
    {
     "name": "stdout",
     "output_type": "stream",
     "text": [
      "Threading Thread-8 is running\n",
      "Threading Thread-8 sleep 1s\n",
      "Threading Thread-9 is running\n",
      "Threading Thread-9 sleep 5s\n",
      "Threading Thread-8 is ended\n",
      "Threading Thread-9 is ended\n"
     ]
    }
   ],
   "source": [
    "threads = []\n",
    "\n",
    "for i in [1, 5]:\n",
    "\n",
    "    thread = threading.Thread(target=target, args=[i])\n",
    "\n",
    "    threads.append(thread)\n",
    "\n",
    "    thread.start()\n",
    "\n",
    "for thread in threads:\n",
    "\n",
    "    thread.join()"
   ]
  },
  {
   "cell_type": "code",
   "execution_count": 4,
   "metadata": {},
   "outputs": [
    {
     "name": "stdout",
     "output_type": "stream",
     "text": [
      "Threading MainThread is running\n",
      "Threading Thread-10 is running\n",
      "Threading Thread-10 sleep 1s\n",
      "Threading Thread-11 is running\n",
      "Threading Thread-11 sleep 5s\n",
      "Threading Thread-10 is ended\n",
      "Threading Thread-11 is ended\n",
      "Threading MainThread is ended\n"
     ]
    }
   ],
   "source": [
    "import threading\n",
    "import time\n",
    "\n",
    "\n",
    "class MyThread(threading.Thread):\n",
    "    def __init__(self, second):\n",
    "        threading.Thread.__init__(self)\n",
    "        self.second = second\n",
    "    \n",
    "    def run(self):\n",
    "        print(f'Threading {threading.current_thread().name} is running')\n",
    "        print(f'Threading {threading.current_thread().name} sleep {self.second}s')\n",
    "        time.sleep(self.second)\n",
    "        print(f'Threading {threading.current_thread().name} is ended')\n",
    "\n",
    "\n",
    "print(f'Threading {threading.current_thread().name} is running')\n",
    "threads = []\n",
    "for i in [1, 5]:\n",
    "    thread = MyThread(i)\n",
    "    threads.append(thread)\n",
    "    thread.start()\n",
    "for thread in threads:\n",
    "    thread.join()\n",
    "print(f'Threading {threading.current_thread().name} is ended')"
   ]
  },
  {
   "cell_type": "code",
   "execution_count": 5,
   "metadata": {},
   "outputs": [
    {
     "name": "stdout",
     "output_type": "stream",
     "text": [
      "Threading MainThread is running\n",
      "Threading Thread-12 is running\n",
      "Threading Thread-12 sleep 2s\n",
      "Threading Thread-13 is running\n",
      "Threading Thread-13 sleep 5s\n",
      "Threading MainThread is ended\n",
      "Threading Thread-12 is ended\n",
      "Threading Thread-13 is ended\n"
     ]
    }
   ],
   "source": [
    "import threading\n",
    "import time\n",
    "\n",
    "\n",
    "def target(second):\n",
    "    print(f'Threading {threading.current_thread().name} is running')\n",
    "    print(f'Threading {threading.current_thread().name} sleep {second}s')\n",
    "    time.sleep(second)\n",
    "    print(f'Threading {threading.current_thread().name} is ended')\n",
    "\n",
    "\n",
    "print(f'Threading {threading.current_thread().name} is running')\n",
    "t1 = threading.Thread(target=target, args=[2])\n",
    "t1.start()\n",
    "t2 = threading.Thread(target=target, args=[5])\n",
    "t2.setDaemon(True)\n",
    "t2.start()\n",
    "print(f'Threading {threading.current_thread().name} is ended')"
   ]
  },
  {
   "cell_type": "code",
   "execution_count": 9,
   "metadata": {},
   "outputs": [
    {
     "name": "stdout",
     "output_type": "stream",
     "text": [
      "Final count: 1000\n"
     ]
    }
   ],
   "source": [
    "import threading\n",
    "import time\n",
    "\n",
    "count = 0\n",
    "\n",
    "class MyThread(threading.Thread):\n",
    "    def __init__(self):\n",
    "        threading.Thread.__init__(self)\n",
    "\n",
    "    def run(self):\n",
    "        global count\n",
    "        lock.acquire()\n",
    "        temp = count + 1\n",
    "        time.sleep(0.001)\n",
    "        count = temp\n",
    "        lock.release()\n",
    "\n",
    "lock = threading.Lock()\n",
    "threads = []\n",
    "for _ in range(1000):\n",
    "    thread = MyThread()\n",
    "    thread.start()\n",
    "    threads.append(thread)\n",
    "\n",
    "for thread in threads:\n",
    "    thread.join()\n",
    "print(f'Final count: {count}')"
   ]
  },
  {
   "cell_type": "code",
   "execution_count": 14,
   "metadata": {},
   "outputs": [],
   "source": [
    "import multiprocessing\n",
    "def process(index):\n",
    "    print(f'Process: {index}')\n",
    "\n",
    "# if __name__ == '__main__':\n",
    "\n",
    "for i in range(5):\n",
    "    p = multiprocessing.Process(target=process, args=(i, ))\n",
    "    p.start()"
   ]
  },
  {
   "cell_type": "code",
   "execution_count": 15,
   "metadata": {},
   "outputs": [
    {
     "name": "stdout",
     "output_type": "stream",
     "text": [
      "CPU number: 12\n",
      "Child process name: Process-26 id: 14032\n",
      "Child process name: Process-28 id: 14480\n",
      "Child process name: Process-30 id: 16468\n",
      "Child process name: Process-27 id: 15308\n",
      "Child process name: Process-29 id: 12804\n",
      "Process Ended\n"
     ]
    }
   ],
   "source": [
    "import multiprocessing\n",
    "import time\n",
    "\n",
    "def process(index):\n",
    "    time.sleep(index)\n",
    "    print(f'Process: {index}')\n",
    "\n",
    "if __name__ == '__main__':\n",
    "    for i in range(5):\n",
    "        p = multiprocessing.Process(target=process, args=[i])\n",
    "        p.start()\n",
    "    print(f'CPU number: {multiprocessing.cpu_count()}')\n",
    "    for p in multiprocessing.active_children():\n",
    "        print(f'Child process name: {p.name} id: {p.pid}')\n",
    "    print('Process Ended')"
   ]
  },
  {
   "cell_type": "code",
   "execution_count": 16,
   "metadata": {},
   "outputs": [],
   "source": [
    "from multiprocessing import Process\n",
    "import time\n",
    "\n",
    "class MyProcess(Process):\n",
    "    def __init__(self, loop):\n",
    "        Process.__init__(self)\n",
    "        self.loop = loop\n",
    "\n",
    "    def run(self):\n",
    "        for count in range(self.loop):\n",
    "            time.sleep(1)\n",
    "            print(f'Pid: {self.pid} LoopCount: {count}')\n",
    "processes = []\n",
    "for i in range(2, 5):\n",
    "    p = MyProcess(i)\n",
    "    processes.append(p)\n",
    "    p.daemon = True\n",
    "    p.start()\n",
    "for p in processes:\n",
    "    p.join()"
   ]
  },
  {
   "cell_type": "code",
   "execution_count": null,
   "metadata": {},
   "outputs": [],
   "source": []
  },
  {
   "cell_type": "code",
   "execution_count": null,
   "metadata": {},
   "outputs": [],
   "source": []
  },
  {
   "cell_type": "code",
   "execution_count": null,
   "metadata": {},
   "outputs": [],
   "source": []
  },
  {
   "cell_type": "code",
   "execution_count": null,
   "metadata": {},
   "outputs": [],
   "source": []
  },
  {
   "cell_type": "code",
   "execution_count": null,
   "metadata": {},
   "outputs": [],
   "source": []
  },
  {
   "cell_type": "code",
   "execution_count": null,
   "metadata": {},
   "outputs": [],
   "source": []
  },
  {
   "cell_type": "code",
   "execution_count": null,
   "metadata": {},
   "outputs": [],
   "source": []
  },
  {
   "cell_type": "code",
   "execution_count": null,
   "metadata": {},
   "outputs": [],
   "source": []
  }
 ],
 "metadata": {
  "kernelspec": {
   "display_name": "Python 3",
   "language": "python",
   "name": "python3"
  },
  "language_info": {
   "codemirror_mode": {
    "name": "ipython",
    "version": 3
   },
   "file_extension": ".py",
   "mimetype": "text/x-python",
   "name": "python",
   "nbconvert_exporter": "python",
   "pygments_lexer": "ipython3",
   "version": "3.7.9"
  }
 },
 "nbformat": 4,
 "nbformat_minor": 4
}
