{
 "cells": [
  {
   "cell_type": "code",
   "execution_count": 1,
   "metadata": {},
   "outputs": [],
   "source": [
    "import requests"
   ]
  },
  {
   "cell_type": "code",
   "execution_count": 2,
   "metadata": {},
   "outputs": [],
   "source": [
    "# 获取免费IP池 IP\n",
    "def get_proxy():\n",
    "    return requests.get(\"http://127.0.0.1:5010/get/\").json()\n",
    "\n",
    "def delete_proxy(proxy):\n",
    "    requests.get(\"http://127.0.0.1:5010/delete/?proxy={}\".format(proxy))\n",
    "\n",
    "# 获取购买的IP池 IP，一段时间后需要在芝麻代理中换API链接\n",
    "def get_my_proxy():\n",
    "    try:\n",
    "        proxy_json = requests.get(\"http://webapi.http.zhimacangku.com/getip?num=1&type=2&pro=&city=0&yys=0&port=1&time=1&ts=0&ys=0&cs=0&lb=1&sb=0&pb=4&mr=1&regions=\").json()\n",
    "        proxy_data = proxy_json.get('data')[0]\n",
    "    except Exception:\n",
    "        print('需要更换代理API接口')\n",
    "        return ''\n",
    "    proxy = proxy_data.get('ip') + ':' + str(proxy_data.get('port'))\n",
    "    return proxy"
   ]
  },
  {
   "cell_type": "code",
   "execution_count": 4,
   "metadata": {},
   "outputs": [
    {
     "name": "stdout",
     "output_type": "stream",
     "text": [
      "{\n",
      "  \"args\": {}, \n",
      "  \"headers\": {\n",
      "    \"Accept\": \"*/*\", \n",
      "    \"Accept-Encoding\": \"gzip, deflate\", \n",
      "    \"Host\": \"httpbin.org\", \n",
      "    \"User-Agent\": \"python-requests/2.20.0\", \n",
      "    \"X-Amzn-Trace-Id\": \"Root=1-60ce21c9-0d30b2f34ead2e6c330104e6\"\n",
      "  }, \n",
      "  \"origin\": \"118.123.40.82\", \n",
      "  \"url\": \"https://httpbin.org/get\"\n",
      "}\n",
      "\n"
     ]
    }
   ],
   "source": [
    "# proxy = get_my_proxy()\n",
    "proxies = {\n",
    "    'http': 'http://' + proxy,\n",
    "    'https': 'https://' + proxy,\n",
    "}\n",
    "\n",
    "try:\n",
    "    response = requests.get('https://httpbin.org/get', proxies=proxies)\n",
    "    print(response.text)\n",
    "except requests.exceptions.ConnectionError as e:\n",
    "    print('Error', e.args)"
   ]
  },
  {
   "cell_type": "code",
   "execution_count": null,
   "metadata": {},
   "outputs": [],
   "source": [
    "import asyncio\n",
    "import aiohttp\n",
    "\n",
    "async def main():\n",
    "    async with aiohttp.ClientSession() as session:\n",
    "        async with session.get('https://httpbin.org/get', proxy=proxy) as response:\n",
    "            print(await response.text)"
   ]
  },
  {
   "cell_type": "code",
   "execution_count": null,
   "metadata": {},
   "outputs": [],
   "source": []
  }
 ],
 "metadata": {
  "kernelspec": {
   "display_name": "Python 3",
   "language": "python",
   "name": "python3"
  },
  "language_info": {
   "codemirror_mode": {
    "name": "ipython",
    "version": 3
   },
   "file_extension": ".py",
   "mimetype": "text/x-python",
   "name": "python",
   "nbconvert_exporter": "python",
   "pygments_lexer": "ipython3",
   "version": "3.7.9"
  }
 },
 "nbformat": 4,
 "nbformat_minor": 4
}
