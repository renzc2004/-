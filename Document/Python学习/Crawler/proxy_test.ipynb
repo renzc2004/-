{
 "cells": [
  {
   "cell_type": "code",
   "execution_count": 1,
   "metadata": {},
   "outputs": [],
   "source": [
    "import requests"
   ]
  },
  {
   "cell_type": "code",
   "execution_count": 2,
   "metadata": {},
   "outputs": [],
   "source": [
    "# 获取免费IP池 IP\n",
    "def get_proxy():\n",
    "    return requests.get(\"http://127.0.0.1:5010/get/\").json()\n",
    "\n",
    "def delete_proxy(proxy):\n",
    "    requests.get(\"http://127.0.0.1:5010/delete/?proxy={}\".format(proxy))\n",
    "\n",
    "# 获取购买的IP池 IP，一段时间后需要在芝麻代理中换API链接\n",
    "def get_my_proxy():\n",
    "    try:\n",
    "        proxy_json = requests.get(\"http://webapi.http.zhimacangku.com/getip?num=1&type=2&pro=&city=0&yys=0&port=1&time=1&ts=0&ys=0&cs=0&lb=1&sb=0&pb=4&mr=1&regions=\").json()\n",
    "        proxy_data = proxy_json.get('data')[0]\n",
    "    except Exception:\n",
    "        print('需要更换代理API接口')\n",
    "        return ''\n",
    "    proxy = proxy_data.get('ip') + ':' + str(proxy_data.get('port'))\n",
    "    return proxy"
   ]
  },
  {
   "cell_type": "code",
   "execution_count": null,
   "metadata": {},
   "outputs": [],
   "source": []
  }
 ],
 "metadata": {
  "kernelspec": {
   "display_name": "Python 3",
   "language": "python",
   "name": "python3"
  },
  "language_info": {
   "codemirror_mode": {
    "name": "ipython",
    "version": 3
   },
   "file_extension": ".py",
   "mimetype": "text/x-python",
   "name": "python",
   "nbconvert_exporter": "python",
   "pygments_lexer": "ipython3",
   "version": "3.7.9"
  }
 },
 "nbformat": 4,
 "nbformat_minor": 4
}
